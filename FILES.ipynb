{
 "cells": [
  {
   "cell_type": "raw",
   "id": "46f61deb-8fdd-4aba-afa3-dfecca7b5856",
   "metadata": {},
   "source": [
    "THEORETICAL QUESTIONS"
   ]
  },
  {
   "cell_type": "code",
   "execution_count": null,
   "id": "8bd26084-cfbc-49bc-8366-4439223ab1f4",
   "metadata": {},
   "outputs": [],
   "source": [
    "# 1  What is the difference between interpreted and compiled languages?\n",
    "\"\"\"\n",
    "Interpreted languages execute code line by line,\n",
    "while compiled languages convert the whole program into machine code before running. Interpreted ones are slower but more flexible.\n",
    "\"\"\""
   ]
  },
  {
   "cell_type": "code",
   "execution_count": 2,
   "id": "7d7620eb-34e2-4840-9268-33cada5bf989",
   "metadata": {},
   "outputs": [
    {
     "data": {
      "text/plain": [
       "'\\nException handling manages runtime errors using try, except, else, and finally blocks to prevent program crashes.\\n'"
      ]
     },
     "execution_count": 2,
     "metadata": {},
     "output_type": "execute_result"
    }
   ],
   "source": [
    "# 2  What is exception handling in Python?\n",
    "\"\"\"\n",
    "Exception handling manages runtime errors using try, except, else, and finally blocks to prevent program crashes.\n",
    "\"\"\"\n"
   ]
  },
  {
   "cell_type": "code",
   "execution_count": null,
   "id": "2a9c09d7-63c6-4753-979c-46bc578ccf06",
   "metadata": {},
   "outputs": [],
   "source": [
    "# 3  What is the purpose of the finally block in exception handling?\n",
    "\"\"\"\n",
    "The finally block ensures that specific code (like closing files) runs, whether or not an exception occurs.\n",
    "\"\"\""
   ]
  },
  {
   "cell_type": "code",
   "execution_count": null,
   "id": "79163863-64d6-43e4-8d43-8617b7600486",
   "metadata": {},
   "outputs": [],
   "source": [
    "# 4  What is logging in Python?\n",
    "\"\"\"\n",
    "Logging records events, errors, and debug information during program execution for monitoring and troubleshooting.\n",
    "\"\"\""
   ]
  },
  {
   "cell_type": "code",
   "execution_count": null,
   "id": "b85bfb9e-4bc4-48e4-a673-94f0f95e0b51",
   "metadata": {},
   "outputs": [],
   "source": [
    "# 5  What is the significance of the __del__ method in Python?\n",
    "\"\"\"\n",
    "__del__ is a destructor method that gets called when an object is deleted, often used to release resources.\n",
    "\"\"\"\n"
   ]
  },
  {
   "cell_type": "code",
   "execution_count": null,
   "id": "b740c5b3-8923-4bfd-8f42-61a77d3b90ff",
   "metadata": {},
   "outputs": [],
   "source": [
    "# 6  What is the difference between import and from ... import in Python?\n",
    "\"\"\"\n",
    "import loads the whole module, while from ... import loads specific functions or classes from a module.\n",
    "\"\"\""
   ]
  },
  {
   "cell_type": "code",
   "execution_count": null,
   "id": "0657ce2a-3e49-4940-9067-2002420758db",
   "metadata": {},
   "outputs": [],
   "source": [
    "# 7  How can you handle multiple exceptions in Python?\n",
    "\"\"\"\n",
    "You can handle multiple exceptions by using multiple except blocks or a single except with a tuple of exceptions.\n",
    "\"\"\""
   ]
  },
  {
   "cell_type": "code",
   "execution_count": null,
   "id": "e912cd1c-d2f8-4a8e-b3a0-f9c73d329571",
   "metadata": {},
   "outputs": [],
   "source": [
    "# 8 What is the purpose of the with statement when handling files in Python?\n",
    "\"\"\"\n",
    "The with statement ensures that files are properly opened and closed automatically after use.\n",
    "\"\"\""
   ]
  },
  {
   "cell_type": "code",
   "execution_count": null,
   "id": "bc776384-4165-4611-822d-2bfac1596f27",
   "metadata": {},
   "outputs": [],
   "source": [
    "# 9  What is the difference between multithreading and multiprocessing?\n",
    "\"\"\"\n",
    "Multithreading runs multiple threads within the same process, while multiprocessing runs separate processes with their own memory space.\n",
    "\"\"\""
   ]
  },
  {
   "cell_type": "code",
   "execution_count": null,
   "id": "4a15c4ae-fa52-4660-8ca0-aede32a9678e",
   "metadata": {},
   "outputs": [],
   "source": [
    "# 10  What are the advantages of using logging in a program?\n",
    "\"\"\"\n",
    "Logging helps in debugging, monitoring, and keeping records of program execution without printing directly to the console.\n",
    "\"\"\""
   ]
  },
  {
   "cell_type": "code",
   "execution_count": null,
   "id": "ea06e192-40c2-4223-a2fb-0b5a225e47d9",
   "metadata": {},
   "outputs": [],
   "source": [
    "# 11  What is memory management in Python?\n",
    "\"\"\"\n",
    "Memory management in Python involves allocating and releasing memory automatically using a private heap and garbage collection.\n",
    "\"\"\""
   ]
  },
  {
   "cell_type": "code",
   "execution_count": null,
   "id": "f1eea95e-c7f8-4d86-8acc-e2cea3ff63a7",
   "metadata": {},
   "outputs": [],
   "source": [
    "# 12  What are the basic steps involved in exception handling in Python?\n",
    "\"\"\"\"\n",
    "Use try to test code, except to handle errors, else for successful execution, and finally for cleanup.\n",
    "\"\"\""
   ]
  },
  {
   "cell_type": "code",
   "execution_count": null,
   "id": "211496cd-913a-4347-a2f6-f132da77ab62",
   "metadata": {},
   "outputs": [],
   "source": [
    "# 13  Why is memory management important in Python?\n",
    "\"\"\"\n",
    "It prevents memory leaks, ensures efficient performance, and optimizes resource usage.\n",
    "\"\"\""
   ]
  },
  {
   "cell_type": "code",
   "execution_count": null,
   "id": "81862a95-c809-416b-8557-a30f4f78f144",
   "metadata": {},
   "outputs": [],
   "source": [
    "# 14  What is the role of try and except in exception handling?\n",
    "\"\"\"\n",
    "try contains code that might fail, and except defines how to handle errors gracefully.\n",
    "\"\"\"\n"
   ]
  },
  {
   "cell_type": "code",
   "execution_count": null,
   "id": "d69c29cf-f8b3-40f3-94a4-eb9fc6a8e534",
   "metadata": {},
   "outputs": [],
   "source": [
    "# 15  How does Python's garbage collection system work?\n",
    "\"\"\"\n",
    "It uses reference counting and a cyclic garbage collector to free unused memory automatically.\n",
    "\"\"\""
   ]
  },
  {
   "cell_type": "code",
   "execution_count": null,
   "id": "a2bf2b4d-6bfd-4e05-b13c-e888c38af7bf",
   "metadata": {},
   "outputs": [],
   "source": [
    "# 16 What is the purpose of the else block in exception handling?\n",
    "\"\"\"\n",
    "The else block runs only if no exception occurs in the try block.\n",
    "\"\"\""
   ]
  },
  {
   "cell_type": "code",
   "execution_count": null,
   "id": "824b8592-7ca5-4922-85f9-3a7103378669",
   "metadata": {},
   "outputs": [],
   "source": [
    "# 17  What are the common logging levels in Python?\n",
    "\"\"\"\n",
    "The main logging levels are DEBUG, INFO, WARNING, ERROR, and CRITICAL.\n",
    "\"\"\""
   ]
  },
  {
   "cell_type": "code",
   "execution_count": null,
   "id": "e4530c9a-e3ef-4d26-91de-ab011dc94918",
   "metadata": {},
   "outputs": [],
   "source": [
    "# 18  What is the difference between os.fork() and multiprocessing in Python?\n",
    "\"\"\"\n",
    "os.fork() directly creates child processes (Unix only), while multiprocessing works cross-platform and offers higher-level APIs.\n",
    "\"\"\""
   ]
  },
  {
   "cell_type": "code",
   "execution_count": null,
   "id": "0c33943b-176f-443c-8b8e-2f3e21523c09",
   "metadata": {},
   "outputs": [],
   "source": [
    "# 19  What is the importance of closing a file in Python?\n",
    "\"\"\"\n",
    "Closing a file releases system resources and ensures data is saved properly.\n",
    "\"\"\""
   ]
  },
  {
   "cell_type": "code",
   "execution_count": null,
   "id": "8f41e515-04ce-4f2b-a2d2-763ebcb9b74d",
   "metadata": {},
   "outputs": [],
   "source": [
    "# 20 What is the difference between file.read() and file.readline() in Python? \n",
    "\"\"\"\n",
    "read() reads the entire file at once, while readline() reads a single line at a time.\n",
    "\"\"\""
   ]
  },
  {
   "cell_type": "code",
   "execution_count": null,
   "id": "120a55e7-2f66-47e0-97a0-f93312c326f0",
   "metadata": {},
   "outputs": [],
   "source": [
    "# 21  What is the logging module in Python used for?\n",
    "\"\"\"\n",
    "It provides a flexible framework to log messages at different levels and save them to files or streams.\n",
    "\"\"\"\n"
   ]
  },
  {
   "cell_type": "code",
   "execution_count": null,
   "id": "0532f443-e59f-4b63-a406-2795b1d26fc1",
   "metadata": {},
   "outputs": [],
   "source": [
    "# 22  What is the os module in Python used for in file handling?\n",
    "\"\"\"\n",
    "The os module provides functions for interacting with the operating system, like file creation, deletion, and directory management.\n",
    "\"\"\""
   ]
  },
  {
   "cell_type": "code",
   "execution_count": null,
   "id": "2fb146e9-455b-49d4-934b-fabee53b8f96",
   "metadata": {},
   "outputs": [],
   "source": [
    "# 23  What are the challenges associated with memory management in Python?\n",
    "\"\"\"\n",
    "Challenges include memory leaks, handling large data efficiently, and performance issues in long-running programs.\n",
    "\"\"\""
   ]
  },
  {
   "cell_type": "code",
   "execution_count": null,
   "id": "828955af-148c-40fb-a6bf-137000f60cc1",
   "metadata": {},
   "outputs": [],
   "source": [
    "# 24  How do you raise an exception manually in Python?\n",
    "\"\"\"\n",
    "You can raise exceptions using the raise keyword, e.g., raise ValueError(\"Invalid input\").\n",
    "\"\"\""
   ]
  },
  {
   "cell_type": "code",
   "execution_count": null,
   "id": "3e237e56-3d14-483d-a110-53bf40387339",
   "metadata": {},
   "outputs": [],
   "source": [
    "# 25 Why is it important to use multithreading in certain applications?\n",
    "\"\"\"\n",
    "Multithreading improves responsiveness and allows concurrent tasks like I/O operations without blocking the main program.\n",
    "\"\"\"\n"
   ]
  },
  {
   "cell_type": "raw",
   "id": "d1d39245-85a4-4747-ac1f-21fb432b775e",
   "metadata": {},
   "source": [
    "PRACTICAL QUESTIONS"
   ]
  },
  {
   "cell_type": "code",
   "execution_count": 3,
   "id": "22c1a7ec-b3d3-4c97-9b7f-06c27f6c7a68",
   "metadata": {},
   "outputs": [],
   "source": [
    "# 1 How can you open a file for writing in Python and write a string to it?\n",
    "with open(\"example.txt\", \"w\") as f:\n",
    "    f.write(\"Hello, this is a sample text.\")\n"
   ]
  },
  {
   "cell_type": "code",
   "execution_count": 4,
   "id": "5085aabb-6da3-4e75-9bc7-6f2f62d8ffa5",
   "metadata": {},
   "outputs": [
    {
     "name": "stdout",
     "output_type": "stream",
     "text": [
      "Hello, this is a sample text.\n"
     ]
    }
   ],
   "source": [
    "# 2  Write a Python program to read the contents of a file and print each line.\n",
    "with open(\"example.txt\", \"r\") as f:\n",
    "    for line in f:\n",
    "        print(line.strip())"
   ]
  },
  {
   "cell_type": "code",
   "execution_count": 5,
   "id": "b528499f-d85a-42db-9ff9-258335a2d02c",
   "metadata": {},
   "outputs": [
    {
     "name": "stdout",
     "output_type": "stream",
     "text": [
      "File does not exist.\n"
     ]
    }
   ],
   "source": [
    "# 3  How would you handle a case where the file doesn't exist while trying to open it for reading?\n",
    "try:\n",
    "    with open(\"nofile.txt\", \"r\") as f:\n",
    "        print(f.read())\n",
    "except FileNotFoundError:\n",
    "    print(\"File does not exist.\")"
   ]
  },
  {
   "cell_type": "code",
   "execution_count": 6,
   "id": "41114f8c-a7af-4345-b2a6-4972b2360295",
   "metadata": {},
   "outputs": [
    {
     "ename": "FileNotFoundError",
     "evalue": "[Errno 2] No such file or directory: 'source.txt'",
     "output_type": "error",
     "traceback": [
      "\u001b[31m---------------------------------------------------------------------------\u001b[39m",
      "\u001b[31mFileNotFoundError\u001b[39m                         Traceback (most recent call last)",
      "\u001b[36mCell\u001b[39m\u001b[36m \u001b[39m\u001b[32mIn[6]\u001b[39m\u001b[32m, line 2\u001b[39m\n\u001b[32m      1\u001b[39m \u001b[38;5;66;03m# 4 Write a Python script that reads from one file and writes its content to another file?\u001b[39;00m\n\u001b[32m----> \u001b[39m\u001b[32m2\u001b[39m \u001b[38;5;28;01mwith\u001b[39;00m \u001b[38;5;28;43mopen\u001b[39;49m\u001b[43m(\u001b[49m\u001b[33;43m\"\u001b[39;49m\u001b[33;43msource.txt\u001b[39;49m\u001b[33;43m\"\u001b[39;49m\u001b[43m,\u001b[49m\u001b[43m \u001b[49m\u001b[33;43m\"\u001b[39;49m\u001b[33;43mr\u001b[39;49m\u001b[33;43m\"\u001b[39;49m\u001b[43m)\u001b[49m \u001b[38;5;28;01mas\u001b[39;00m src, \u001b[38;5;28mopen\u001b[39m(\u001b[33m\"\u001b[39m\u001b[33mdestination.txt\u001b[39m\u001b[33m\"\u001b[39m, \u001b[33m\"\u001b[39m\u001b[33mw\u001b[39m\u001b[33m\"\u001b[39m) \u001b[38;5;28;01mas\u001b[39;00m dest:\n\u001b[32m      3\u001b[39m     dest.write(src.read())\n",
      "\u001b[36mFile \u001b[39m\u001b[32m~\\AppData\\Local\\Programs\\Python\\Python313\\Lib\\site-packages\\IPython\\core\\interactiveshell.py:343\u001b[39m, in \u001b[36m_modified_open\u001b[39m\u001b[34m(file, *args, **kwargs)\u001b[39m\n\u001b[32m    336\u001b[39m \u001b[38;5;28;01mif\u001b[39;00m file \u001b[38;5;129;01min\u001b[39;00m {\u001b[32m0\u001b[39m, \u001b[32m1\u001b[39m, \u001b[32m2\u001b[39m}:\n\u001b[32m    337\u001b[39m     \u001b[38;5;28;01mraise\u001b[39;00m \u001b[38;5;167;01mValueError\u001b[39;00m(\n\u001b[32m    338\u001b[39m         \u001b[33mf\u001b[39m\u001b[33m\"\u001b[39m\u001b[33mIPython won\u001b[39m\u001b[33m'\u001b[39m\u001b[33mt let you open fd=\u001b[39m\u001b[38;5;132;01m{\u001b[39;00mfile\u001b[38;5;132;01m}\u001b[39;00m\u001b[33m by default \u001b[39m\u001b[33m\"\u001b[39m\n\u001b[32m    339\u001b[39m         \u001b[33m\"\u001b[39m\u001b[33mas it is likely to crash IPython. If you know what you are doing, \u001b[39m\u001b[33m\"\u001b[39m\n\u001b[32m    340\u001b[39m         \u001b[33m\"\u001b[39m\u001b[33myou can use builtins\u001b[39m\u001b[33m'\u001b[39m\u001b[33m open.\u001b[39m\u001b[33m\"\u001b[39m\n\u001b[32m    341\u001b[39m     )\n\u001b[32m--> \u001b[39m\u001b[32m343\u001b[39m \u001b[38;5;28;01mreturn\u001b[39;00m \u001b[43mio_open\u001b[49m\u001b[43m(\u001b[49m\u001b[43mfile\u001b[49m\u001b[43m,\u001b[49m\u001b[43m \u001b[49m\u001b[43m*\u001b[49m\u001b[43margs\u001b[49m\u001b[43m,\u001b[49m\u001b[43m \u001b[49m\u001b[43m*\u001b[49m\u001b[43m*\u001b[49m\u001b[43mkwargs\u001b[49m\u001b[43m)\u001b[49m\n",
      "\u001b[31mFileNotFoundError\u001b[39m: [Errno 2] No such file or directory: 'source.txt'"
     ]
    }
   ],
   "source": [
    "# 4 Write a Python script that reads from one file and writes its content to another file?\n",
    "with open(\"source.txt\", \"r\") as src, open(\"destination.txt\", \"w\") as dest:\n",
    "    dest.write(src.read())"
   ]
  },
  {
   "cell_type": "code",
   "execution_count": 8,
   "id": "48dac96e-1eb4-47f4-b683-a457084f0555",
   "metadata": {},
   "outputs": [
    {
     "name": "stdout",
     "output_type": "stream",
     "text": [
      "Division by zero is not allowed.\n"
     ]
    }
   ],
   "source": [
    "# 5  How would you catch and handle division by zero error in Python?\n",
    "try:\n",
    "    result = 10 / 0\n",
    "except ZeroDivisionError:\n",
    "    print(\"Division by zero is not allowed.\")"
   ]
  },
  {
   "cell_type": "code",
   "execution_count": 9,
   "id": "aa6bc5fd-7614-4c17-bd42-f6c4e85ceff4",
   "metadata": {},
   "outputs": [],
   "source": [
    "# 6  Write a Python program that logs an error message to a log file when a division by zero exception occurs.\n",
    "import logging\n",
    "logging.basicConfig(filename=\"errors.log\", level=logging.ERROR)\n",
    "\n",
    "try:\n",
    "    x = 10 / 0\n",
    "except ZeroDivisionError as e:\n",
    "    logging.error(\"Division by zero error: %s\", e)"
   ]
  },
  {
   "cell_type": "code",
   "execution_count": 10,
   "id": "2486384f-c921-431e-be74-d1069164b56d",
   "metadata": {},
   "outputs": [],
   "source": [
    "# 7  How do you log information at different levels (INFO, ERROR, WARNING) in Python using the logging module?\n",
    "import logging\n",
    "logging.basicConfig(level=logging.DEBUG)\n",
    "\n",
    "logging.info(\"This is an info message\")\n",
    "logging.warning(\"This is a warning\")\n",
    "logging.error(\"This is an error\")"
   ]
  },
  {
   "cell_type": "code",
   "execution_count": 11,
   "id": "6c9cb12b-4e24-4364-8dad-a7f261921abf",
   "metadata": {},
   "outputs": [
    {
     "name": "stdout",
     "output_type": "stream",
     "text": [
      "Error opening file.\n"
     ]
    }
   ],
   "source": [
    "# 8  Write a program to handle a file opening error using exception handling.\n",
    "try:\n",
    "    with open(\"unknown.txt\", \"r\") as f:\n",
    "        print(f.read())\n",
    "except IOError:\n",
    "    print(\"Error opening file.\")"
   ]
  },
  {
   "cell_type": "code",
   "execution_count": 12,
   "id": "17437d8f-016f-4378-ae65-3e2fc5ba6b5d",
   "metadata": {},
   "outputs": [
    {
     "name": "stdout",
     "output_type": "stream",
     "text": [
      "['Hello, this is a sample text.']\n"
     ]
    }
   ],
   "source": [
    "# 9  How can you read a file line by line and store its content in a list in Python?\n",
    "with open(\"example.txt\", \"r\") as f:\n",
    "    lines = f.readlines()\n",
    "print(lines)"
   ]
  },
  {
   "cell_type": "code",
   "execution_count": null,
   "id": "89fc3742-db23-4c82-843f-ed9c2e792846",
   "metadata": {},
   "outputs": [],
   "source": [
    "# 10  How can you append data to an existing file in Python?\n",
    "with open(\"example.txt\", \"a\") as f:\n",
    "    f.write(\"\\nThis line is appended.\")\n"
   ]
  },
  {
   "cell_type": "code",
   "execution_count": 13,
   "id": "94a2852d-c7b4-4df9-bd33-2bbab537fd8d",
   "metadata": {},
   "outputs": [
    {
     "name": "stdout",
     "output_type": "stream",
     "text": [
      "Key not found.\n"
     ]
    }
   ],
   "source": [
    "# 11  Write a Python program that uses a try-except block to handle an error when attempting to access a dictionary key that doesn't exist.\n",
    "my_dict = {\"a\": 1, \"b\": 2}\n",
    "try:\n",
    "    print(my_dict[\"c\"])\n",
    "except KeyError:\n",
    "    print(\"Key not found.\")\n"
   ]
  },
  {
   "cell_type": "code",
   "execution_count": 14,
   "id": "1a003198-d95f-41c1-90f9-cc65f0f95323",
   "metadata": {},
   "outputs": [
    {
     "name": "stdout",
     "output_type": "stream",
     "text": [
      "ValueError occurred\n"
     ]
    }
   ],
   "source": [
    "# 12  Write a program that demonstrates using multiple except blocks to handle different types of exceptions.\n",
    "try:\n",
    "    x = int(\"abc\")\n",
    "except ValueError:\n",
    "    print(\"ValueError occurred\")\n",
    "except TypeError:\n",
    "    print(\"TypeError occurred\")\n"
   ]
  },
  {
   "cell_type": "code",
   "execution_count": 15,
   "id": "8f2bb243-2ec3-4325-8c58-26154ae756b9",
   "metadata": {},
   "outputs": [
    {
     "name": "stdout",
     "output_type": "stream",
     "text": [
      "Hello, this is a sample text.\n"
     ]
    }
   ],
   "source": [
    "# 13  How would you check if a file exists before attempting to read it in Python?\n",
    "import os\n",
    "if os.path.exists(\"example.txt\"):\n",
    "    with open(\"example.txt\", \"r\") as f:\n",
    "        print(f.read())\n",
    "else:\n",
    "    print(\"File does not exist.\")\n"
   ]
  },
  {
   "cell_type": "code",
   "execution_count": 16,
   "id": "137b8bba-7b1f-4250-9d26-b55abf555dcc",
   "metadata": {},
   "outputs": [],
   "source": [
    "# 14  Write a program that uses the logging module to log both informational and error messages.\n",
    "import logging\n",
    "logging.basicConfig(filename=\"logfile.log\", level=logging.INFO)\n",
    "\n",
    "logging.info(\"Program started successfully\")\n",
    "try:\n",
    "    result = 5 / 0\n",
    "except ZeroDivisionError:\n",
    "    logging.error(\"Division by zero occurred\")\n"
   ]
  },
  {
   "cell_type": "code",
   "execution_count": 17,
   "id": "fe1ee47f-d1e8-43ca-b02b-4a5293043e1a",
   "metadata": {},
   "outputs": [
    {
     "name": "stdout",
     "output_type": "stream",
     "text": [
      "Hello, this is a sample text.\n"
     ]
    }
   ],
   "source": [
    "# 15  Write a Python program that prints the content of a file and handles the case when the file is empty.\n",
    "with open(\"example.txt\", \"r\") as f:\n",
    "    content = f.read()\n",
    "    if content:\n",
    "        print(content)\n",
    "    else:\n",
    "        print(\"File is empty.\")\n"
   ]
  },
  {
   "cell_type": "code",
   "execution_count": 18,
   "id": "2296f4d7-66ff-4757-9510-b1cb0172c2a1",
   "metadata": {},
   "outputs": [
    {
     "ename": "ModuleNotFoundError",
     "evalue": "No module named 'memory_profiler'",
     "output_type": "error",
     "traceback": [
      "\u001b[31m---------------------------------------------------------------------------\u001b[39m",
      "\u001b[31mModuleNotFoundError\u001b[39m                       Traceback (most recent call last)",
      "\u001b[36mCell\u001b[39m\u001b[36m \u001b[39m\u001b[32mIn[18]\u001b[39m\u001b[32m, line 2\u001b[39m\n\u001b[32m      1\u001b[39m \u001b[38;5;66;03m# 16  Demonstrate how to use memory profiling to check the memory usage of a small program.\u001b[39;00m\n\u001b[32m----> \u001b[39m\u001b[32m2\u001b[39m \u001b[38;5;28;01mfrom\u001b[39;00m\u001b[38;5;250m \u001b[39m\u001b[34;01mmemory_profiler\u001b[39;00m\u001b[38;5;250m \u001b[39m\u001b[38;5;28;01mimport\u001b[39;00m profile\n\u001b[32m      4\u001b[39m \u001b[38;5;129m@profile\u001b[39m\n\u001b[32m      5\u001b[39m \u001b[38;5;28;01mdef\u001b[39;00m\u001b[38;5;250m \u001b[39m\u001b[34mtest\u001b[39m():\n\u001b[32m      6\u001b[39m     nums = [i \u001b[38;5;28;01mfor\u001b[39;00m i \u001b[38;5;129;01min\u001b[39;00m \u001b[38;5;28mrange\u001b[39m(\u001b[32m100000\u001b[39m)]\n",
      "\u001b[31mModuleNotFoundError\u001b[39m: No module named 'memory_profiler'"
     ]
    }
   ],
   "source": [
    "# 16  Demonstrate how to use memory profiling to check the memory usage of a small program.\n",
    "from memory_profiler import profile\n",
    "\n",
    "@profile\n",
    "def test():\n",
    "    nums = [i for i in range(100000)]\n",
    "    return sum(nums)\n",
    "\n",
    "test()\n"
   ]
  },
  {
   "cell_type": "code",
   "execution_count": 23,
   "id": "a166896b-ddde-497b-857e-fa7610e95149",
   "metadata": {},
   "outputs": [],
   "source": [
    "# 17 Write a Python program to create and write a list of numbers to a file, one number per line.\n",
    "numbers = [1, 2, 3, 4, 5]\n",
    "with open(\"numbers.txt\", \"w\") as f:\n",
    "    for n in numbers:\n",
    "        f.write(str(n) + \"\\n\")\n"
   ]
  },
  {
   "cell_type": "code",
   "execution_count": 19,
   "id": "76dc46ae-42e3-4a40-b35f-91f36a0e1f90",
   "metadata": {},
   "outputs": [],
   "source": [
    "# 18  How would you implement a basic logging setup that logs to a file with rotation after 1MB?\n",
    "import logging\n",
    "from logging.handlers import RotatingFileHandler\n",
    "\n",
    "handler = RotatingFileHandler(\"rotating.log\", maxBytes=1_000_000, backupCount=3)\n",
    "logging.basicConfig(handlers=[handler], level=logging.INFO)\n",
    "\n",
    "logging.info(\"This is a test log with rotation.\")\n"
   ]
  },
  {
   "cell_type": "code",
   "execution_count": 20,
   "id": "e4be64f6-470a-4c1f-8cde-f6c67e7fdaa0",
   "metadata": {},
   "outputs": [
    {
     "name": "stdout",
     "output_type": "stream",
     "text": [
      "Index out of range.\n"
     ]
    }
   ],
   "source": [
    "# 19  Write a program that handles both IndexError and KeyError using a try-except block.\n",
    "try:\n",
    "    lst = [1, 2, 3]\n",
    "    print(lst[5])\n",
    "    d = {\"a\": 1}\n",
    "    print(d[\"b\"])\n",
    "except IndexError:\n",
    "    print(\"Index out of range.\")\n",
    "except KeyError:\n",
    "    print(\"Key not found.\")\n"
   ]
  },
  {
   "cell_type": "code",
   "execution_count": 21,
   "id": "1873ef82-cf32-4cd5-b861-2e958b523e6e",
   "metadata": {},
   "outputs": [
    {
     "name": "stdout",
     "output_type": "stream",
     "text": [
      "Hello, this is a sample text.\n"
     ]
    }
   ],
   "source": [
    "# 20  How would you open a file and read its contents using a context manager in Python?\n",
    "with open(\"example.txt\", \"r\") as f:\n",
    "    print(f.read())\n"
   ]
  },
  {
   "cell_type": "code",
   "execution_count": 22,
   "id": "2d1bbb4a-c5db-4a06-afe1-dae7d815db25",
   "metadata": {},
   "outputs": [
    {
     "name": "stdout",
     "output_type": "stream",
     "text": [
      "The word 'Python' occurred 0 times.\n"
     ]
    }
   ],
   "source": [
    "# 21  Write a Python program that reads a file and prints the number of occurrences of a specific word.\n",
    "word = \"Python\"\n",
    "count = 0\n",
    "with open(\"example.txt\", \"r\") as f:\n",
    "    for line in f:\n",
    "        count += line.count(word)\n",
    "print(f\"The word '{word}' occurred {count} times.\")\n"
   ]
  },
  {
   "cell_type": "code",
   "execution_count": 24,
   "id": "cdc966c5-f8fd-4e96-a03a-273c962dfcc9",
   "metadata": {},
   "outputs": [
    {
     "name": "stdout",
     "output_type": "stream",
     "text": [
      "Hello, this is a sample text.\n"
     ]
    }
   ],
   "source": [
    "# 22  How can you check if a file is empty before attempting to read its contents?\n",
    "import os\n",
    "if os.path.getsize(\"example.txt\") == 0:\n",
    "    print(\"File is empty.\")\n",
    "else:\n",
    "    with open(\"example.txt\", \"r\") as f:\n",
    "        print(f.read())\n"
   ]
  },
  {
   "cell_type": "code",
   "execution_count": 25,
   "id": "eb3d79ec-c45f-4e69-aa56-d0e624c5f836",
   "metadata": {},
   "outputs": [],
   "source": [
    "# 23  Write a Python program that writes to a log file when an error occurs during file handling.\n",
    "import logging\n",
    "logging.basicConfig(filename=\"file_error.log\", level=logging.ERROR)\n",
    "\n",
    "try:\n",
    "    with open(\"nonexist.txt\", \"r\") as f:\n",
    "        print(f.read())\n",
    "except Exception as e:\n",
    "    logging.error(\"File error: %s\", e)\n"
   ]
  }
 ],
 "metadata": {
  "kernelspec": {
   "display_name": "Python 3 (ipykernel)",
   "language": "python",
   "name": "python3"
  },
  "language_info": {
   "codemirror_mode": {
    "name": "ipython",
    "version": 3
   },
   "file_extension": ".py",
   "mimetype": "text/x-python",
   "name": "python",
   "nbconvert_exporter": "python",
   "pygments_lexer": "ipython3",
   "version": "3.13.7"
  }
 },
 "nbformat": 4,
 "nbformat_minor": 5
}
